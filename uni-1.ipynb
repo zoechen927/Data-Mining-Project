{
 "cells": [
  {
   "cell_type": "code",
   "execution_count": 118,
   "id": "8431d830",
   "metadata": {},
   "outputs": [],
   "source": [
    "import numpy as np\n",
    "import pandas as pd\n",
    "import matplotlib.pyplot as plt\n",
    "import time\n",
    "from sklearn.model_selection import train_test_split"
   ]
  },
  {
   "cell_type": "code",
   "execution_count": 90,
   "id": "23bc8627",
   "metadata": {},
   "outputs": [],
   "source": [
    "mu = []\n",
    "std = []\n",
    "def norm(data):\n",
    "    for i in range(0,data.shape[1]-1):\n",
    "        data[:,i] = ((data[:,i] - np.mean(data[:,i]))/np.std(data[:, i]))\n",
    "        mu.append(np.mean(data[:,i]))\n",
    "        std.append(np.std(data[:,i]))"
   ]
  },
  {
   "cell_type": "code",
   "execution_count": 91,
   "id": "dfd3d76f",
   "metadata": {},
   "outputs": [],
   "source": [
    "#Processing the data\n",
    "df = pd.read_excel('Concrete_Data.xls')\n",
    "data_o = np.array(df,dtype = float)\n",
    "norm(data_o)\n",
    "data=np.hstack((np.ones((data_o.shape[0],1)),data_o))\n",
    "x = data[:,[0,1]]\n",
    "y = data[:,-1]"
   ]
  },
  {
   "cell_type": "code",
   "execution_count": 92,
   "id": "ed65edd3",
   "metadata": {},
   "outputs": [
    {
     "data": {
      "text/plain": [
       "array([[ 2.47791782, -0.85688631, -0.84713204, ..., -1.21765845,\n",
       "        -0.27973311, 79.98611076],\n",
       "       [ 2.47791782, -0.85688631, -0.84713204, ..., -1.21765845,\n",
       "        -0.27973311, 61.88736576],\n",
       "       [ 0.49144303,  0.79553263, -0.84713204, ..., -2.24091255,\n",
       "         3.55306569, 40.26953526],\n",
       "       ...,\n",
       "       [-1.2700575 ,  0.75958527,  0.85066095, ...,  0.08012724,\n",
       "        -0.27973311, 23.69660064],\n",
       "       [-1.16857975,  1.3080724 , -0.84713204, ...,  0.19118775,\n",
       "        -0.27973311, 32.76803638],\n",
       "       [-0.19401043,  0.30850389,  0.37696733, ..., -0.15072887,\n",
       "        -0.27973311, 32.40123514]])"
      ]
     },
     "execution_count": 92,
     "metadata": {},
     "output_type": "execute_result"
    }
   ],
   "source": [
    "data_o"
   ]
  },
  {
   "cell_type": "code",
   "execution_count": 93,
   "id": "946259cd",
   "metadata": {},
   "outputs": [
    {
     "data": {
      "text/plain": [
       "(array([[1030.,    0.,    0.,    0.,    0.,    0.,    0.,    0.,    0.,\n",
       "            0.],\n",
       "        [1030.,    0.,    0.,    0.,    0.,    0.,    0.,    0.,    0.,\n",
       "            0.],\n",
       "        [1030.,    0.,    0.,    0.,    0.,    0.,    0.,    0.,    0.,\n",
       "            0.],\n",
       "        [1030.,    0.,    0.,    0.,    0.,    0.,    0.,    0.,    0.,\n",
       "            0.],\n",
       "        [1030.,    0.,    0.,    0.,    0.,    0.,    0.,    0.,    0.,\n",
       "            0.],\n",
       "        [1030.,    0.,    0.,    0.,    0.,    0.,    0.,    0.,    0.,\n",
       "            0.],\n",
       "        [1030.,    0.,    0.,    0.,    0.,    0.,    0.,    0.,    0.,\n",
       "            0.],\n",
       "        [1030.,    0.,    0.,    0.,    0.,    0.,    0.,    0.,    0.,\n",
       "            0.],\n",
       "        [   6.,   98.,  136.,  184.,  226.,  151.,  116.,   52.,   38.,\n",
       "           23.]]),\n",
       " array([-2.80233333,  5.73782248, 14.27797829, 22.81813411, 31.35828992,\n",
       "        39.89844573, 48.43860155, 56.97875736, 65.51891317, 74.05906899,\n",
       "        82.5992248 ]),\n",
       " <a list of 9 BarContainer objects>)"
      ]
     },
     "execution_count": 93,
     "metadata": {},
     "output_type": "execute_result"
    },
    {
     "data": {
      "image/png": "[encoded data removed]",
      "text/plain": [
       "<Figure size 432x288 with 1 Axes>"
      ]
     },
     "metadata": {
      "needs_background": "light"
     },
     "output_type": "display_data"
    }
   ],
   "source": [
    "fig=plt.figure()\n",
    "plt.hist(data_o)"
   ]
  },
  {
   "cell_type": "code",
   "execution_count": 94,
   "id": "9553597a",
   "metadata": {},
   "outputs": [
    {
     "name": "stdout",
     "output_type": "stream",
     "text": [
      "(900, 2)\n",
      "(130, 2)\n",
      "(900,)\n",
      "(130,)\n"
     ]
    }
   ],
   "source": [
    "X_train,X_test,Y_train,Y_test=train_test_split(x,y,train_size=900/1030)\n",
    "print(X_train.shape)\n",
    "print(X_test.shape)\n",
    "print(Y_train.shape)\n",
    "print(Y_test.shape)"
   ]
  },
  {
   "cell_type": "code",
   "execution_count": 95,
   "id": "b5962ef9",
   "metadata": {},
   "outputs": [],
   "source": [
    "def h(x,theta):\n",
    "    return np.matmul(x,theta)"
   ]
  },
  {
   "cell_type": "code",
   "execution_count": 96,
   "id": "a2b1043d",
   "metadata": {},
   "outputs": [],
   "source": [
    "def cost_function(x, y, theta):\n",
    "    return ((h(x, theta)-y).T@(h(x, theta)-y))/y.shape[0]"
   ]
  },
  {
   "cell_type": "code",
   "execution_count": 97,
   "id": "fc8420ad",
   "metadata": {},
   "outputs": [],
   "source": [
    "def cost_function_test(theta):\n",
    "    return ((h(X_test, theta)-Y_test).T@(h(X_test, theta)-Y_test))/Y_test.shape[0]"
   ]
  },
  {
   "cell_type": "code",
   "execution_count": 110,
   "id": "7782e84b",
   "metadata": {},
   "outputs": [],
   "source": [
    "def gradient_descent(x, y, theta, learning_rate=0.1, num_epochs=20):\n",
    "    m = x.shape[0]\n",
    "    J_all = []\n",
    "    \n",
    "    for _ in range(num_epochs):\n",
    "        h_x = h(x, theta)\n",
    "        cost_ = (2/m)*(x.T@(h_x - y))\n",
    "        theta = theta - (learning_rate)*cost_\n",
    "        J_all.append(cost_function(x, y, theta))\n",
    "\n",
    "    return theta, J_all"
   ]
  },
  {
   "cell_type": "code",
   "execution_count": 111,
   "id": "41b3fe60",
   "metadata": {},
   "outputs": [],
   "source": [
    "def plot_cost(J_all, num_epochs):\n",
    "    plt.xlabel('Epochs')\n",
    "    plt.ylabel('Cost')\n",
    "    plt.plot(num_epochs, J_all, 'm', linewidth = \"5\")\n",
    "    plt.show()"
   ]
  },
  {
   "cell_type": "code",
   "execution_count": 119,
   "id": "d1545dfb",
   "metadata": {
    "scrolled": true
   },
   "outputs": [
    {
     "name": "stdout",
     "output_type": "stream",
     "text": [
      "Cost:  [[209.2929446]]\n",
      "Parameters:  [[35.44330935]\n",
      " [ 8.30855235]]\n"
     ]
    },
    {
     "data": {
      "image/png": "[encoded data removed]",
      "text/plain": [
       "<Figure size 432x288 with 1 Axes>"
      ]
     },
     "metadata": {
      "needs_background": "light"
     },
     "output_type": "display_data"
    },
    {
     "name": "stdout",
     "output_type": "stream",
     "text": [
      "0.08638787269592285\n"
     ]
    }
   ],
   "source": [
    "start = time.time()\n",
    "y = np.reshape(Y_train,(900,1))\n",
    "x = X_train\n",
    "theta = np.zeros((x.shape[1], 1))\n",
    "learning_rate = 0.1\n",
    "num_epochs = 20\n",
    "theta, J_all = gradient_descent(x, y, theta, learning_rate, num_epochs)\n",
    "J = cost_function(x, y, theta)\n",
    "print(\"Cost: \", J)\n",
    "print(\"Parameters: \", theta)\n",
    "\n",
    "#for testing and plotting cost \n",
    "n_epochs = []\n",
    "jplot = []\n",
    "count = 0\n",
    "for i in J_all:\n",
    "    jplot.append(i[0][0])\n",
    "    n_epochs.append(count)\n",
    "    count += 1\n",
    "jplot = np.array(jplot)\n",
    "n_epochs = np.array(n_epochs)\n",
    "plot_cost(jplot, n_epochs)\n",
    "end = time.time()\n",
    "print(end-start)"
   ]
  },
  {
   "cell_type": "code",
   "execution_count": 113,
   "id": "9515c4ac",
   "metadata": {},
   "outputs": [
    {
     "data": {
      "text/plain": [
       "array([[35.44330935],\n",
       "       [ 8.30855235]])"
      ]
     },
     "execution_count": 113,
     "metadata": {},
     "output_type": "execute_result"
    }
   ],
   "source": [
    "theta"
   ]
  },
  {
   "cell_type": "code",
   "execution_count": 114,
   "id": "3af04f5c",
   "metadata": {},
   "outputs": [
    {
     "data": {
      "text/plain": [
       "<matplotlib.legend.Legend at 0x7fcc4a9ef640>"
      ]
     },
     "execution_count": 114,
     "metadata": {},
     "output_type": "execute_result"
    },
    {
     "data": {
      "image/png": "[encoded data removed]",
      "text/plain": [
       "<Figure size 432x288 with 1 Axes>"
      ]
     },
     "metadata": {
      "needs_background": "light"
     },
     "output_type": "display_data"
    }
   ],
   "source": [
    "#Plot the scatterplot and the regression line\n",
    "plt.scatter(x[:,1],y, color = 'red', label = 'Training Scatter Plot')\n",
    "plt.plot(x[:,1],h(x,theta),color = 'green',label = 'Linear Regression')\n",
    "plt.grid()\n",
    "plt.legend()"
   ]
  },
  {
   "cell_type": "code",
   "execution_count": 115,
   "id": "f3083f84",
   "metadata": {},
   "outputs": [
    {
     "data": {
      "text/plain": [
       "array([[0.25288193]])"
      ]
     },
     "execution_count": 115,
     "metadata": {},
     "output_type": "execute_result"
    }
   ],
   "source": [
    "#R-squared value of training\n",
    "1-J/np.var(y)"
   ]
  },
  {
   "cell_type": "code",
   "execution_count": 116,
   "id": "53f93e2e",
   "metadata": {},
   "outputs": [
    {
     "data": {
      "text/plain": [
       "array([[0.20593697]])"
      ]
     },
     "execution_count": 116,
     "metadata": {},
     "output_type": "execute_result"
    }
   ],
   "source": [
    "#R-square value of testing\n",
    "Y_test = np.reshape(Y_test,(130,1))\n",
    "np.var(Y_test)\n",
    "J = cost_function_test(theta)\n",
    "1-J/np.var(Y_test)"
   ]
  }
 ],
 "metadata": {
  "kernelspec": {
   "display_name": "Python 3 (ipykernel)",
   "language": "python",
   "name": "python3"
  },
  "language_info": {
   "codemirror_mode": {
    "name": "ipython",
    "version": 3
   },
   "file_extension": ".py",
   "mimetype": "text/x-python",
   "name": "python",
   "nbconvert_exporter": "python",
   "pygments_lexer": "ipython3",
   "version": "3.9.12"
  }
 },
 "nbformat": 4,
 "nbformat_minor": 5
}
