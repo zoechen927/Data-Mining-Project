{
 "cells": [
  {
   "cell_type": "code",
   "execution_count": 29,
   "id": "8431d830",
   "metadata": {},
   "outputs": [],
   "source": [
    "import numpy as np\n",
    "import pandas as pd\n",
    "import time\n",
    "import matplotlib.pyplot as plt\n",
    "from sklearn.model_selection import train_test_split"
   ]
  },
  {
   "cell_type": "code",
   "execution_count": 17,
   "id": "b0a9578e",
   "metadata": {},
   "outputs": [],
   "source": [
    "mu = []\n",
    "std = []\n",
    "def norm(data):\n",
    "    for i in range(0,data.shape[1]-1):\n",
    "        data[:,i] = ((data[:,i] - np.mean(data[:,i]))/np.std(data[:, i]))\n",
    "        mu.append(np.mean(data[:,i]))\n",
    "        std.append(np.std(data[:,i]))"
   ]
  },
  {
   "cell_type": "code",
   "execution_count": 18,
   "id": "dfd3d76f",
   "metadata": {},
   "outputs": [],
   "source": [
    "#Processing the data\n",
    "df = pd.read_excel('Concrete_Data.xls')\n",
    "data_o = np.array(df,dtype = float)\n",
    "norm(data_o)\n",
    "data=np.hstack((np.ones((data_o.shape[0],1)),data_o))\n",
    "x = data[:,:9]\n",
    "y = data[:,-1]"
   ]
  },
  {
   "cell_type": "code",
   "execution_count": 19,
   "id": "9553597a",
   "metadata": {},
   "outputs": [
    {
     "name": "stdout",
     "output_type": "stream",
     "text": [
      "(900, 9)\n",
      "(130, 9)\n",
      "(900,)\n",
      "(130,)\n"
     ]
    }
   ],
   "source": [
    "X_train,X_test,Y_train,Y_test=train_test_split(x,y,train_size=900/1030)\n",
    "print(X_train.shape)\n",
    "print(X_test.shape)\n",
    "print(Y_train.shape)\n",
    "print(Y_test.shape)"
   ]
  },
  {
   "cell_type": "code",
   "execution_count": 20,
   "id": "b5962ef9",
   "metadata": {},
   "outputs": [],
   "source": [
    "def h(x,theta):\n",
    "    return np.matmul(x,theta)"
   ]
  },
  {
   "cell_type": "code",
   "execution_count": 21,
   "id": "a2b1043d",
   "metadata": {},
   "outputs": [],
   "source": [
    "def cost_function(x, y, theta):\n",
    "    return ((h(x, theta)-y).T@(h(x, theta)-y))/y.shape[0]"
   ]
  },
  {
   "cell_type": "code",
   "execution_count": 22,
   "id": "011be36b",
   "metadata": {},
   "outputs": [],
   "source": [
    "def cost_function_test(theta):\n",
    "    return ((h(X_test, theta)-Y_test).T@(h(X_test, theta)-Y_test))/Y_test.shape[0]"
   ]
  },
  {
   "cell_type": "code",
   "execution_count": 23,
   "id": "7782e84b",
   "metadata": {},
   "outputs": [],
   "source": [
    "def gradient_descent(x, y, theta, learning_rate=0.1, num_epochs=20):\n",
    "    m = x.shape[0]\n",
    "    J_all = []\n",
    "    \n",
    "    for _ in range(num_epochs):\n",
    "        h_x = h(x, theta)\n",
    "        cost_ = (2/m)*(x.T@(h_x - y))\n",
    "        theta = theta - (learning_rate)*cost_\n",
    "        J_all.append(cost_function(x, y, theta))\n",
    "\n",
    "    return theta, J_all"
   ]
  },
  {
   "cell_type": "code",
   "execution_count": 24,
   "id": "41b3fe60",
   "metadata": {},
   "outputs": [],
   "source": [
    "def plot_cost(J_all, num_epochs):\n",
    "    plt.xlabel('Epochs')\n",
    "    plt.ylabel('Cost')\n",
    "    plt.plot(num_epochs, J_all, 'm', linewidth = \"5\")\n",
    "    plt.show()"
   ]
  },
  {
   "cell_type": "code",
   "execution_count": 30,
   "id": "d1545dfb",
   "metadata": {
    "scrolled": true
   },
   "outputs": [
    {
     "name": "stdout",
     "output_type": "stream",
     "text": [
      "Cost:  [[115.10575754]]\n",
      "Parameters:  [[35.36022809]\n",
      " [ 7.04337105]\n",
      " [ 3.33419321]\n",
      " [ 0.34200058]\n",
      " [-5.20005884]\n",
      " [ 3.56200502]\n",
      " [-1.32850753]\n",
      " [-2.73167554]\n",
      " [ 6.36935994]]\n"
     ]
    },
    {
     "data": {
      "image/png": "[encoded data removed]",
      "text/plain": [
       "<Figure size 432x288 with 1 Axes>"
      ]
     },
     "metadata": {
      "needs_background": "light"
     },
     "output_type": "display_data"
    },
    {
     "name": "stdout",
     "output_type": "stream",
     "text": [
      "0.09771108627319336\n"
     ]
    }
   ],
   "source": [
    "start = time.time()\n",
    "y = np.reshape(Y_train,(900,1))\n",
    "x = X_train\n",
    "theta = np.zeros((x.shape[1], 1))\n",
    "learning_rate = 0.1\n",
    "num_epochs = 20\n",
    "theta, J_all = gradient_descent(x, y, theta, learning_rate, num_epochs)\n",
    "J = cost_function(x, y, theta)\n",
    "print(\"Cost: \", J)\n",
    "print(\"Parameters: \", theta)\n",
    "\n",
    "#for testing and plotting cost \n",
    "n_epochs = []\n",
    "jplot = []\n",
    "count = 0\n",
    "for i in J_all:\n",
    "    jplot.append(i[0][0])\n",
    "    n_epochs.append(count)\n",
    "    count += 1\n",
    "jplot = np.array(jplot)\n",
    "n_epochs = np.array(n_epochs)\n",
    "plot_cost(jplot, n_epochs)\n",
    "end = time.time()\n",
    "print(end-start)"
   ]
  },
  {
   "cell_type": "code",
   "execution_count": 26,
   "id": "36b31efc",
   "metadata": {},
   "outputs": [
    {
     "data": {
      "text/plain": [
       "array([[35.36022809],\n",
       "       [ 7.04337105],\n",
       "       [ 3.33419321],\n",
       "       [ 0.34200058],\n",
       "       [-5.20005884],\n",
       "       [ 3.56200502],\n",
       "       [-1.32850753],\n",
       "       [-2.73167554],\n",
       "       [ 6.36935994]])"
      ]
     },
     "execution_count": 26,
     "metadata": {},
     "output_type": "execute_result"
    }
   ],
   "source": [
    "theta"
   ]
  },
  {
   "cell_type": "code",
   "execution_count": 27,
   "id": "b4ebc8bc",
   "metadata": {},
   "outputs": [
    {
     "data": {
      "text/plain": [
       "array([[0.58522372]])"
      ]
     },
     "execution_count": 27,
     "metadata": {},
     "output_type": "execute_result"
    }
   ],
   "source": [
    "#R-squared value of training\n",
    "1-J/np.var(y)"
   ]
  },
  {
   "cell_type": "code",
   "execution_count": 28,
   "id": "8d16ed40",
   "metadata": {},
   "outputs": [
    {
     "data": {
      "text/plain": [
       "array([[0.63853359]])"
      ]
     },
     "execution_count": 28,
     "metadata": {},
     "output_type": "execute_result"
    }
   ],
   "source": [
    "#R-square value of testing\n",
    "Y_test = np.reshape(Y_test,(130,1))\n",
    "np.var(Y_test)\n",
    "J = cost_function_test(theta)\n",
    "1-J/np.var(Y_test)"
   ]
  },
  {
   "cell_type": "code",
   "execution_count": null,
   "id": "64f49bdd",
   "metadata": {},
   "outputs": [],
   "source": []
  }
 ],
 "metadata": {
  "kernelspec": {
   "display_name": "Python 3 (ipykernel)",
   "language": "python",
   "name": "python3"
  },
  "language_info": {
   "codemirror_mode": {
    "name": "ipython",
    "version": 3
   },
   "file_extension": ".py",
   "mimetype": "text/x-python",
   "name": "python",
   "nbconvert_exporter": "python",
   "pygments_lexer": "ipython3",
   "version": "3.9.12"
  }
 },
 "nbformat": 4,
 "nbformat_minor": 5
}
